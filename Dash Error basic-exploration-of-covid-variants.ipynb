{
 "cells": [
  {
   "cell_type": "code",
   "execution_count": 1,
   "metadata": {
    "_cell_guid": "b1076dfc-b9ad-4769-8c92-a6c4dae69d19",
    "_uuid": "8f2839f25d086af736a60e9eeb907d3b93b6e0e5",
    "execution": {
     "iopub.execute_input": "2021-09-23T08:49:54.833970Z",
     "iopub.status.busy": "2021-09-23T08:49:54.833613Z",
     "iopub.status.idle": "2021-09-23T08:49:54.865833Z",
     "shell.execute_reply": "2021-09-23T08:49:54.864975Z",
     "shell.execute_reply.started": "2021-09-23T08:49:54.833878Z"
    }
   },
   "outputs": [],
   "source": [
    "import numpy as np \n",
    "import pandas as pd \n",
    "\n",
    "import os"
   ]
  },
  {
   "cell_type": "code",
   "execution_count": 2,
   "metadata": {
    "execution": {
     "iopub.execute_input": "2021-09-23T08:52:26.091544Z",
     "iopub.status.busy": "2021-09-23T08:52:26.091220Z",
     "iopub.status.idle": "2021-09-23T08:52:27.622760Z",
     "shell.execute_reply": "2021-09-23T08:52:27.621825Z",
     "shell.execute_reply.started": "2021-09-23T08:52:26.091497Z"
    }
   },
   "outputs": [],
   "source": [
    "import pandas as pd\n",
    "import plotly.express as px"
   ]
  },
  {
   "cell_type": "code",
   "execution_count": 3,
   "metadata": {
    "execution": {
     "iopub.execute_input": "2021-09-23T08:53:36.652396Z",
     "iopub.status.busy": "2021-09-23T08:53:36.651764Z",
     "iopub.status.idle": "2021-09-23T08:53:36.700046Z",
     "shell.execute_reply": "2021-09-23T08:53:36.699229Z",
     "shell.execute_reply.started": "2021-09-23T08:53:36.652361Z"
    }
   },
   "outputs": [],
   "source": [
    "variant = pd.read_csv('covid-variants.csv')"
   ]
  },
  {
   "cell_type": "code",
   "execution_count": null,
   "metadata": {
    "execution": {
     "iopub.execute_input": "2021-09-23T08:53:41.395070Z",
     "iopub.status.busy": "2021-09-23T08:53:41.394574Z",
     "iopub.status.idle": "2021-09-23T08:53:41.410852Z",
     "shell.execute_reply": "2021-09-23T08:53:41.410297Z",
     "shell.execute_reply.started": "2021-09-23T08:53:41.395031Z"
    }
   },
   "outputs": [],
   "source": [
    "variant.head()"
   ]
  },
  {
   "cell_type": "code",
   "execution_count": null,
   "metadata": {
    "execution": {
     "iopub.execute_input": "2021-09-23T08:55:39.364926Z",
     "iopub.status.busy": "2021-09-23T08:55:39.363976Z",
     "iopub.status.idle": "2021-09-23T08:55:39.388610Z",
     "shell.execute_reply": "2021-09-23T08:55:39.387773Z",
     "shell.execute_reply.started": "2021-09-23T08:55:39.364874Z"
    }
   },
   "outputs": [],
   "source": [
    "variant.isna().sum()"
   ]
  },
  {
   "cell_type": "code",
   "execution_count": null,
   "metadata": {},
   "outputs": [],
   "source": [
    "variants=variant.variant.unique()"
   ]
  },
  {
   "cell_type": "code",
   "execution_count": null,
   "metadata": {},
   "outputs": [],
   "source": []
  },
  {
   "cell_type": "code",
   "execution_count": null,
   "metadata": {
    "execution": {
     "iopub.execute_input": "2021-09-23T08:56:52.184447Z",
     "iopub.status.busy": "2021-09-23T08:56:52.184112Z",
     "iopub.status.idle": "2021-09-23T08:56:53.037047Z",
     "shell.execute_reply": "2021-09-23T08:56:53.036224Z",
     "shell.execute_reply.started": "2021-09-23T08:56:52.184414Z"
    }
   },
   "outputs": [],
   "source": [
    "fig = px.area(variant, x=\"date\", y=\"num_sequences\", color='variant', hover_name='location')\n",
    "#fig.data[0].area.color = 'rgb(0, 0, 0)'\n",
    "#fig.u=\"Total \"+str(len(fig.data))+ \"Variant sequence\"\n",
    "fig.update_layout(\n",
    "    title=\"Total \"+str(len(fig.data))+ \" Variant sequence\")\n",
    "fig.show()"
   ]
  },
  {
   "cell_type": "code",
   "execution_count": null,
   "metadata": {
    "execution": {
     "iopub.execute_input": "2021-09-23T08:58:13.375606Z",
     "iopub.status.busy": "2021-09-23T08:58:13.374860Z",
     "iopub.status.idle": "2021-09-23T08:58:14.341050Z",
     "shell.execute_reply": "2021-09-23T08:58:14.340444Z",
     "shell.execute_reply.started": "2021-09-23T08:58:13.375562Z"
    }
   },
   "outputs": [],
   "source": [
    "fig = px.line(variant, x=\"date\", y=\"num_sequences_total\", color='location', title='Variant Total sequence')\n",
    "fig.show()"
   ]
  },
  {
   "cell_type": "code",
   "execution_count": null,
   "metadata": {},
   "outputs": [],
   "source": [
    "%tb\n",
    "import dash\n",
    "import dash_core_components as dcc\n",
    "import dash_html_components as html\n",
    "from dash.dependencies import Input, Output\n",
    "import plotly.express as px\n",
    "from concurrent.futures import ThreadPoolExecutor\n",
    "\n",
    "'''df = px.data.gapminder()\n",
    "countries = (\n",
    "    df.country.drop_duplicates()\n",
    "    .sample(n=10, random_state=42)\n",
    ")\n",
    "df = df[df.country.isin(countries)]'''\n",
    "\n",
    "app = dash.Dash(__name__)\n",
    "app.layout = html.Div([\n",
    "    html.P(\"Select y-axis\"),\n",
    "    dcc.Dropdown(\n",
    "        id='y-axis',\n",
    "        options=[\n",
    "            {'label': x, 'value': x} \n",
    "            for x in variant],\n",
    "        value='num_sequences_total'\n",
    "    ),\n",
    "    dcc.Graph(id=\"graph\"),\n",
    "])\n",
    "\n",
    "@app.callback(\n",
    "    Output(\"graph\", \"figure\"), \n",
    "    [Input(\"y-axis\", \"value\")])\n",
    "def display_area(y):\n",
    "    fig = px.area(\n",
    "        variant, x=\"date\", y=y,\n",
    "        color=\"location\", line_group=\"location\")\n",
    "    return fig\n",
    "\n",
    "executor = ThreadPoolExecutor(max_workers=2)\n",
    "\n",
    "app.run_server(port=\"8000\")"
   ]
  },
  {
   "cell_type": "code",
   "execution_count": null,
   "metadata": {},
   "outputs": [],
   "source": []
  }
 ],
 "metadata": {
  "kernelspec": {
   "display_name": "Python 3 (ipykernel)",
   "language": "python",
   "name": "python3"
  },
  "language_info": {
   "codemirror_mode": {
    "name": "ipython",
    "version": 3
   },
   "file_extension": ".py",
   "mimetype": "text/x-python",
   "name": "python",
   "nbconvert_exporter": "python",
   "pygments_lexer": "ipython3",
   "version": "3.7.11"
  }
 },
 "nbformat": 4,
 "nbformat_minor": 4
}
